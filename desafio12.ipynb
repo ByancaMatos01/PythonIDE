{
 "cells": [
  {
   "cell_type": "code",
   "outputs": [
    {
     "name": "stdout",
     "output_type": "stream",
     "text": [
      " valor novo do produto é 10.0\n"
     ]
    }
   ],
   "source": [
    "produto=float(input(\"Digite o valor do produto\"))\n",
    "reajuste=produto*0.5\n",
    "valorNovo=produto-reajuste\n",
    "print(' valor novo do produto é {}' .format(valorNovo))"
   ],
   "metadata": {
    "collapsed": false,
    "ExecuteTime": {
     "end_time": "2024-01-16T22:52:44.409372600Z",
     "start_time": "2024-01-16T22:52:36.920887200Z"
    }
   },
   "id": "f3d6b144ea40e7ca",
   "execution_count": 1
  },
  {
   "cell_type": "code",
   "execution_count": null,
   "id": "initial_id",
   "metadata": {
    "collapsed": true,
    "ExecuteTime": {
     "end_time": "2024-01-16T22:52:18.936790300Z",
     "start_time": "2024-01-16T22:52:18.933273400Z"
    }
   },
   "outputs": [],
   "source": []
  },
  {
   "cell_type": "code",
   "outputs": [],
   "source": [],
   "metadata": {
    "collapsed": false
   },
   "id": "735c508b389fd127"
  }
 ],
 "metadata": {
  "kernelspec": {
   "display_name": "Python 3",
   "language": "python",
   "name": "python3"
  },
  "language_info": {
   "codemirror_mode": {
    "name": "ipython",
    "version": 2
   },
   "file_extension": ".py",
   "mimetype": "text/x-python",
   "name": "python",
   "nbconvert_exporter": "python",
   "pygments_lexer": "ipython2",
   "version": "2.7.6"
  }
 },
 "nbformat": 4,
 "nbformat_minor": 5
}
