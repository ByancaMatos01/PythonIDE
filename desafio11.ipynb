{
 "cells": [
  {
   "cell_type": "code",
   "execution_count": 1,
   "id": "initial_id",
   "metadata": {
    "collapsed": true,
    "ExecuteTime": {
     "end_time": "2024-01-16T22:48:18.517377200Z",
     "start_time": "2024-01-16T22:48:12.913598Z"
    }
   },
   "outputs": [
    {
     "name": "stdout",
     "output_type": "stream",
     "text": [
      "Total de tinta gasta é igual a 4.0\n"
     ]
    }
   ],
   "source": [
    "altura = float(input('Digite a altura'))\n",
    "largura = float(input('Digite a largura'))\n",
    "area = altura * largura\n",
    "tinta = area / 2\n",
    "print('Total de tinta gasta é igual a {}'.format(tinta))"
   ]
  },
  {
   "cell_type": "code",
   "outputs": [],
   "source": [],
   "metadata": {
    "collapsed": false,
    "ExecuteTime": {
     "end_time": "2024-01-16T22:48:18.531375500Z",
     "start_time": "2024-01-16T22:48:18.512368900Z"
    }
   },
   "id": "3fdc29f2afc742e5",
   "execution_count": 1
  },
  {
   "cell_type": "code",
   "outputs": [],
   "source": [],
   "metadata": {
    "collapsed": false
   },
   "id": "a1a13c5bfba7cc73"
  }
 ],
 "metadata": {
  "kernelspec": {
   "display_name": "Python 3",
   "language": "python",
   "name": "python3"
  },
  "language_info": {
   "codemirror_mode": {
    "name": "ipython",
    "version": 2
   },
   "file_extension": ".py",
   "mimetype": "text/x-python",
   "name": "python",
   "nbconvert_exporter": "python",
   "pygments_lexer": "ipython2",
   "version": "2.7.6"
  }
 },
 "nbformat": 4,
 "nbformat_minor": 5
}
